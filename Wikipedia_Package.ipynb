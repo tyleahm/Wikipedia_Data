{
 "cells": [
  {
   "cell_type": "markdown",
   "metadata": {},
   "source": [
    "# Using Wikipedia, Pandas, and Geopandas visualize all the Ancient Libraries and Where they were"
   ]
  },
  {
   "cell_type": "markdown",
   "metadata": {},
   "source": [
    "Helpful Websites:\n",
    "    1. https://www.thecrazyprogrammer.com/2018/05/wikipedia-api-python-tutorial.html\n",
    "    \n",
    "Installation of package: pip install wikipedia"
   ]
  },
  {
   "cell_type": "code",
   "execution_count": 78,
   "metadata": {
    "collapsed": true
   },
   "outputs": [],
   "source": [
    "import wikipedia\n",
    "import regex as re\n",
    "import pandas as pd\n",
    "import numpy as np\n",
    "import geopandas as gpd\n",
    "%matplotlib inline\n",
    "import matplotlib as plt"
   ]
  },
  {
   "cell_type": "code",
   "execution_count": 79,
   "metadata": {},
   "outputs": [
    {
     "name": "stdout",
     "output_type": "stream",
     "text": [
      "The great libraries of the ancient world served as archives for empires, sanctuaries for sacred writings, and depositories of literature and chronicles.\n",
      "\n",
      "\n"
     ]
    }
   ],
   "source": [
    "##Print Summary\n",
    "print(wikipedia.summary(\"Ancient Libraries\")) "
   ]
  },
  {
   "cell_type": "code",
   "execution_count": 80,
   "metadata": {},
   "outputs": [
    {
     "name": "stdout",
     "output_type": "stream",
     "text": [
      "['List of libraries in the ancient world', 'Library of Alexandria', 'Library', 'Imperial Library of Constantinople', 'Library of Ashurbanipal', 'History of libraries', 'Ancient Greek', 'Library of Pergamum', 'Ancient Rome', 'Ulpian Library']\n"
     ]
    }
   ],
   "source": [
    "##List of Titles\n",
    "import wikipedia\n",
    "print(wikipedia.search(\"Ancient Libraries\"))"
   ]
  },
  {
   "cell_type": "code",
   "execution_count": 81,
   "metadata": {},
   "outputs": [
    {
     "name": "stdout",
     "output_type": "stream",
     "text": [
      "https://en.wikipedia.org/wiki/List_of_libraries_in_the_ancient_world\n"
     ]
    }
   ],
   "source": [
    "##Url of a title\n",
    "import wikipedia\n",
    "page = wikipedia.page(\"List of libraries in the ancient world\")\n",
    "print(page.url)"
   ]
  },
  {
   "cell_type": "code",
   "execution_count": 82,
   "metadata": {},
   "outputs": [
    {
     "name": "stdout",
     "output_type": "stream",
     "text": [
      "List of libraries in the ancient world\n"
     ]
    }
   ],
   "source": [
    "import wikipedia\n",
    "page = wikipedia.page(\"List of libraries in the ancient world\")\n",
    "print(page.title)"
   ]
  },
  {
   "cell_type": "code",
   "execution_count": 83,
   "metadata": {},
   "outputs": [
    {
     "name": "stdout",
     "output_type": "stream",
     "text": [
      "https://upload.wikimedia.org/wikipedia/commons/a/ae/Aerial_view_of_Elba_2.jpg\n"
     ]
    }
   ],
   "source": [
    "import wikipedia\n",
    "page = wikipedia.page(\"Elba\")\n",
    "print(page.images[0])"
   ]
  },
  {
   "cell_type": "code",
   "execution_count": 84,
   "metadata": {},
   "outputs": [
    {
     "name": "stdout",
     "output_type": "stream",
     "text": [
      "This is a list of World Heritage Sites in the Arab states, in Western Asia and North Africa, occupy an area stretching from the Atlantic Ocean in the west to the Arabian Sea in the east, and from the Mediterranean Sea.\n",
      "\n",
      "\n",
      "== List ==\n",
      "The list below contains an image of the site or part of the site; the name as inscribed by UNESCO; the location; the nominating state party; the criteria met by the site, including if it is a cultural, natural or mixed; the area in hectares and acres, excluding any buffer zones, with a value of zero implying that no data is published by UNESCO; the year the site was inscribed; and a description of the site.\n",
      "\n",
      "\n",
      "== See also ==\n",
      "List of World Heritage Sites in Africa\n",
      "List of World Heritage Sites in Western Asia\n",
      "Destruction of cultural heritage by ISIL\n",
      "\n",
      "\n",
      "== References ==\n",
      "\n",
      "\n",
      "== External links ==\n",
      "UNESCO World Heritage Centre – Official site\n",
      "List of UNESCO World Heritage Sites – Official site\n",
      "VRheritage.org – documentation of World Heritage Sites\n",
      "Worldheritage-Forum – Information and Weblog on World Heritage Issues\n"
     ]
    }
   ],
   "source": [
    "import wikipedia\n",
    "page_t = wikipedia.page(\"List of World Heritage Sites in the Arab states\")\n",
    "print(page_t.content)"
   ]
  },
  {
   "cell_type": "markdown",
   "metadata": {},
   "source": [
    "# Apply Wikipedia Package"
   ]
  },
  {
   "cell_type": "markdown",
   "metadata": {},
   "source": [
    "Variables"
   ]
  },
  {
   "cell_type": "code",
   "execution_count": 85,
   "metadata": {
    "collapsed": true
   },
   "outputs": [],
   "source": [
    "w_page = \"List of World Heritage Sites in the Arab states\"\n",
    "col_names = [\"Library\", \"NAME\", \"Empty\"]\n",
    "output_table = \"Ancient_Libraries.csv\"\n",
    "\n"
   ]
  },
  {
   "cell_type": "code",
   "execution_count": 86,
   "metadata": {},
   "outputs": [
    {
     "name": "stdout",
     "output_type": "stream",
     "text": [
      "This is a list of World Heritage Sites in the Arab states, in Western Asia and North Africa, occupy an area stretching from the Atlantic Ocean in the west to the Arabian Sea in the east, and from the Mediterranean Sea.\n",
      "\n",
      "\n",
      "== List ==\n",
      "The list below contains an image of the site or part of the site; the name as inscribed by UNESCO; the location; the nominating state party; the criteria met by the site, including if it is a cultural, natural or mixed; the area in hectares and acres, excluding any buffer zones, with a value of zero implying that no data is published by UNESCO; the year the site was inscribed; and a description of the site.\n",
      "\n",
      "\n",
      "== See also ==\n",
      "List of World Heritage Sites in Africa\n",
      "List of World Heritage Sites in Western Asia\n",
      "Destruction of cultural heritage by ISIL\n",
      "\n",
      "\n",
      "== References ==\n",
      "\n",
      "\n",
      "== External links ==\n",
      "UNESCO World Heritage Centre – Official site\n",
      "List of UNESCO World Heritage Sites – Official site\n",
      "VRheritage.org – documentation of World Heritage Sites\n",
      "Worldheritage-Forum – Information and Weblog on World Heritage Issues\n"
     ]
    }
   ],
   "source": [
    "w_page = wikipedia.page(w_page)\n",
    "print(w_page.content)"
   ]
  },
  {
   "cell_type": "code",
   "execution_count": 87,
   "metadata": {},
   "outputs": [
    {
     "data": {
      "text/plain": [
       "'This is a list of World Heritage Sites in the Arab states, in Western Asia and North Africa, occupy an area stretching from the Atlantic Ocean in the west to the Arabian Sea in the east, and from the Mediterranean Sea.\\n\\n\\n== List ==\\nThe list below contains an image of the site or part of the site; the name as inscribed by UNESCO; the location; the nominating state party; the criteria met by the site, including if it is a cultural, natural or mixed; the area in hectares and acres, excluding any buffer zones, with a value of zero implying that no data is published by UNESCO; the year the site was inscribed; and a description of the site.\\n\\n\\n== See also ==\\nList of World Heritage Sites in Africa\\nList of World Heritage Sites in Western Asia\\nDestruction of cultural heritage by ISIL\\n\\n\\n== References ==\\n\\n\\n== External links ==\\nUNESCO World Heritage Centre – Official site\\nList of UNESCO World Heritage Sites – Official site\\nVRheritage.org – documentation of World Heritage Sites\\nWorldheritage-Forum – Information and Weblog on World Heritage Issues'"
      ]
     },
     "execution_count": 87,
     "metadata": {},
     "output_type": "execute_result"
    }
   ],
   "source": [
    "text = w_page.content\n",
    "text"
   ]
  },
  {
   "cell_type": "code",
   "execution_count": 88,
   "metadata": {
    "collapsed": true
   },
   "outputs": [],
   "source": [
    "open('temp.txt', 'a').close()"
   ]
  },
  {
   "cell_type": "code",
   "execution_count": 89,
   "metadata": {
    "collapsed": true
   },
   "outputs": [],
   "source": [
    "with open('temp.txt', \"w\", encoding=\"utf-8\") as f:\n",
    "    f.write(text)\n",
    "\n"
   ]
  },
  {
   "cell_type": "code",
   "execution_count": 90,
   "metadata": {
    "scrolled": true
   },
   "outputs": [
    {
     "name": "stderr",
     "output_type": "stream",
     "text": [
      "C:\\Users\\fcmun\\Anaconda3\\lib\\site-packages\\ipykernel_launcher.py:1: ParserWarning: Falling back to the 'python' engine because the 'c' engine does not support regex separators (separators > 1 char and different from '\\s+' are interpreted as regex); you can avoid this warning by specifying engine='python'.\n",
      "  \"\"\"Entry point for launching an IPython kernel.\n"
     ]
    },
    {
     "data": {
      "text/html": [
       "<div>\n",
       "<style scoped>\n",
       "    .dataframe tbody tr th:only-of-type {\n",
       "        vertical-align: middle;\n",
       "    }\n",
       "\n",
       "    .dataframe tbody tr th {\n",
       "        vertical-align: top;\n",
       "    }\n",
       "\n",
       "    .dataframe thead th {\n",
       "        text-align: right;\n",
       "    }\n",
       "</style>\n",
       "<table border=\"1\" class=\"dataframe\">\n",
       "  <thead>\n",
       "    <tr style=\"text-align: right;\">\n",
       "      <th></th>\n",
       "      <th>0</th>\n",
       "      <th>1</th>\n",
       "      <th>2</th>\n",
       "    </tr>\n",
       "  </thead>\n",
       "  <tbody>\n",
       "    <tr>\n",
       "      <th>0</th>\n",
       "      <td>NaN</td>\n",
       "      <td>List</td>\n",
       "      <td>NaN</td>\n",
       "    </tr>\n",
       "    <tr>\n",
       "      <th>1</th>\n",
       "      <td>The list below contains an image of the site o...</td>\n",
       "      <td>None</td>\n",
       "      <td>NaN</td>\n",
       "    </tr>\n",
       "    <tr>\n",
       "      <th>2</th>\n",
       "      <td>NaN</td>\n",
       "      <td>See also</td>\n",
       "      <td>NaN</td>\n",
       "    </tr>\n",
       "    <tr>\n",
       "      <th>3</th>\n",
       "      <td>List of World Heritage Sites in Africa</td>\n",
       "      <td>None</td>\n",
       "      <td>NaN</td>\n",
       "    </tr>\n",
       "    <tr>\n",
       "      <th>4</th>\n",
       "      <td>List of World Heritage Sites in Western Asia</td>\n",
       "      <td>None</td>\n",
       "      <td>NaN</td>\n",
       "    </tr>\n",
       "    <tr>\n",
       "      <th>5</th>\n",
       "      <td>Destruction of cultural heritage by ISIL</td>\n",
       "      <td>None</td>\n",
       "      <td>NaN</td>\n",
       "    </tr>\n",
       "    <tr>\n",
       "      <th>6</th>\n",
       "      <td>NaN</td>\n",
       "      <td>References</td>\n",
       "      <td>NaN</td>\n",
       "    </tr>\n",
       "    <tr>\n",
       "      <th>7</th>\n",
       "      <td>NaN</td>\n",
       "      <td>External links</td>\n",
       "      <td>NaN</td>\n",
       "    </tr>\n",
       "    <tr>\n",
       "      <th>8</th>\n",
       "      <td>UNESCO World Heritage Centre â€“ Official site</td>\n",
       "      <td>None</td>\n",
       "      <td>NaN</td>\n",
       "    </tr>\n",
       "    <tr>\n",
       "      <th>9</th>\n",
       "      <td>List of UNESCO World Heritage Sites â€“ Offici...</td>\n",
       "      <td>None</td>\n",
       "      <td>NaN</td>\n",
       "    </tr>\n",
       "    <tr>\n",
       "      <th>10</th>\n",
       "      <td>VRheritage.org â€“ documentation of World Heri...</td>\n",
       "      <td>None</td>\n",
       "      <td>NaN</td>\n",
       "    </tr>\n",
       "    <tr>\n",
       "      <th>11</th>\n",
       "      <td>Worldheritage-Forum â€“ Information and Weblog...</td>\n",
       "      <td>None</td>\n",
       "      <td>NaN</td>\n",
       "    </tr>\n",
       "  </tbody>\n",
       "</table>\n",
       "</div>"
      ],
      "text/plain": [
       "                                                    0                 1   2\n",
       "0                                                 NaN             List  NaN\n",
       "1   The list below contains an image of the site o...              None NaN\n",
       "2                                                 NaN         See also  NaN\n",
       "3              List of World Heritage Sites in Africa              None NaN\n",
       "4        List of World Heritage Sites in Western Asia              None NaN\n",
       "5            Destruction of cultural heritage by ISIL              None NaN\n",
       "6                                                 NaN       References  NaN\n",
       "7                                                 NaN   External links  NaN\n",
       "8      UNESCO World Heritage Centre â€“ Official site              None NaN\n",
       "9   List of UNESCO World Heritage Sites â€“ Offici...              None NaN\n",
       "10  VRheritage.org â€“ documentation of World Heri...              None NaN\n",
       "11  Worldheritage-Forum â€“ Information and Weblog...              None NaN"
      ]
     },
     "execution_count": 90,
     "metadata": {},
     "output_type": "execute_result"
    }
   ],
   "source": [
    "df = pd.read_csv('temp.txt', sep = '==',  header = None, skiprows =1)\n",
    "df\n",
    "#skiprows = 1\n"
   ]
  },
  {
   "cell_type": "code",
   "execution_count": 91,
   "metadata": {},
   "outputs": [
    {
     "data": {
      "text/html": [
       "<div>\n",
       "<style scoped>\n",
       "    .dataframe tbody tr th:only-of-type {\n",
       "        vertical-align: middle;\n",
       "    }\n",
       "\n",
       "    .dataframe tbody tr th {\n",
       "        vertical-align: top;\n",
       "    }\n",
       "\n",
       "    .dataframe thead th {\n",
       "        text-align: right;\n",
       "    }\n",
       "</style>\n",
       "<table border=\"1\" class=\"dataframe\">\n",
       "  <thead>\n",
       "    <tr style=\"text-align: right;\">\n",
       "      <th></th>\n",
       "      <th>Library</th>\n",
       "      <th>NAME</th>\n",
       "      <th>Empty</th>\n",
       "    </tr>\n",
       "  </thead>\n",
       "  <tbody>\n",
       "    <tr>\n",
       "      <th>0</th>\n",
       "      <td>NaN</td>\n",
       "      <td>List</td>\n",
       "      <td>NaN</td>\n",
       "    </tr>\n",
       "    <tr>\n",
       "      <th>1</th>\n",
       "      <td>The list below contains an image of the site o...</td>\n",
       "      <td>None</td>\n",
       "      <td>NaN</td>\n",
       "    </tr>\n",
       "    <tr>\n",
       "      <th>2</th>\n",
       "      <td>NaN</td>\n",
       "      <td>See also</td>\n",
       "      <td>NaN</td>\n",
       "    </tr>\n",
       "    <tr>\n",
       "      <th>3</th>\n",
       "      <td>List of World Heritage Sites in Africa</td>\n",
       "      <td>None</td>\n",
       "      <td>NaN</td>\n",
       "    </tr>\n",
       "    <tr>\n",
       "      <th>4</th>\n",
       "      <td>List of World Heritage Sites in Western Asia</td>\n",
       "      <td>None</td>\n",
       "      <td>NaN</td>\n",
       "    </tr>\n",
       "    <tr>\n",
       "      <th>5</th>\n",
       "      <td>Destruction of cultural heritage by ISIL</td>\n",
       "      <td>None</td>\n",
       "      <td>NaN</td>\n",
       "    </tr>\n",
       "    <tr>\n",
       "      <th>6</th>\n",
       "      <td>NaN</td>\n",
       "      <td>References</td>\n",
       "      <td>NaN</td>\n",
       "    </tr>\n",
       "    <tr>\n",
       "      <th>7</th>\n",
       "      <td>NaN</td>\n",
       "      <td>External links</td>\n",
       "      <td>NaN</td>\n",
       "    </tr>\n",
       "    <tr>\n",
       "      <th>8</th>\n",
       "      <td>UNESCO World Heritage Centre â€“ Official site</td>\n",
       "      <td>None</td>\n",
       "      <td>NaN</td>\n",
       "    </tr>\n",
       "    <tr>\n",
       "      <th>9</th>\n",
       "      <td>List of UNESCO World Heritage Sites â€“ Offici...</td>\n",
       "      <td>None</td>\n",
       "      <td>NaN</td>\n",
       "    </tr>\n",
       "    <tr>\n",
       "      <th>10</th>\n",
       "      <td>VRheritage.org â€“ documentation of World Heri...</td>\n",
       "      <td>None</td>\n",
       "      <td>NaN</td>\n",
       "    </tr>\n",
       "    <tr>\n",
       "      <th>11</th>\n",
       "      <td>Worldheritage-Forum â€“ Information and Weblog...</td>\n",
       "      <td>None</td>\n",
       "      <td>NaN</td>\n",
       "    </tr>\n",
       "  </tbody>\n",
       "</table>\n",
       "</div>"
      ],
      "text/plain": [
       "                                              Library              NAME  Empty\n",
       "0                                                 NaN             List     NaN\n",
       "1   The list below contains an image of the site o...              None    NaN\n",
       "2                                                 NaN         See also     NaN\n",
       "3              List of World Heritage Sites in Africa              None    NaN\n",
       "4        List of World Heritage Sites in Western Asia              None    NaN\n",
       "5            Destruction of cultural heritage by ISIL              None    NaN\n",
       "6                                                 NaN       References     NaN\n",
       "7                                                 NaN   External links     NaN\n",
       "8      UNESCO World Heritage Centre â€“ Official site              None    NaN\n",
       "9   List of UNESCO World Heritage Sites â€“ Offici...              None    NaN\n",
       "10  VRheritage.org â€“ documentation of World Heri...              None    NaN\n",
       "11  Worldheritage-Forum â€“ Information and Weblog...              None    NaN"
      ]
     },
     "execution_count": 91,
     "metadata": {},
     "output_type": "execute_result"
    }
   ],
   "source": [
    "df.columns = col_names\n",
    "df"
   ]
  },
  {
   "cell_type": "code",
   "execution_count": 92,
   "metadata": {},
   "outputs": [
    {
     "data": {
      "text/html": [
       "<div>\n",
       "<style scoped>\n",
       "    .dataframe tbody tr th:only-of-type {\n",
       "        vertical-align: middle;\n",
       "    }\n",
       "\n",
       "    .dataframe tbody tr th {\n",
       "        vertical-align: top;\n",
       "    }\n",
       "\n",
       "    .dataframe thead th {\n",
       "        text-align: right;\n",
       "    }\n",
       "</style>\n",
       "<table border=\"1\" class=\"dataframe\">\n",
       "  <thead>\n",
       "    <tr style=\"text-align: right;\">\n",
       "      <th></th>\n",
       "      <th>Library</th>\n",
       "      <th>NAME</th>\n",
       "      <th>Empty</th>\n",
       "    </tr>\n",
       "  </thead>\n",
       "  <tbody>\n",
       "    <tr>\n",
       "      <th>0</th>\n",
       "      <td>NaN</td>\n",
       "      <td>List</td>\n",
       "      <td>NaN</td>\n",
       "    </tr>\n",
       "    <tr>\n",
       "      <th>1</th>\n",
       "      <td>The list below contains an image of the site o...</td>\n",
       "      <td>List</td>\n",
       "      <td>NaN</td>\n",
       "    </tr>\n",
       "    <tr>\n",
       "      <th>2</th>\n",
       "      <td>NaN</td>\n",
       "      <td>See also</td>\n",
       "      <td>NaN</td>\n",
       "    </tr>\n",
       "    <tr>\n",
       "      <th>3</th>\n",
       "      <td>List of World Heritage Sites in Africa</td>\n",
       "      <td>See also</td>\n",
       "      <td>NaN</td>\n",
       "    </tr>\n",
       "    <tr>\n",
       "      <th>4</th>\n",
       "      <td>List of World Heritage Sites in Western Asia</td>\n",
       "      <td>See also</td>\n",
       "      <td>NaN</td>\n",
       "    </tr>\n",
       "    <tr>\n",
       "      <th>5</th>\n",
       "      <td>Destruction of cultural heritage by ISIL</td>\n",
       "      <td>See also</td>\n",
       "      <td>NaN</td>\n",
       "    </tr>\n",
       "    <tr>\n",
       "      <th>6</th>\n",
       "      <td>NaN</td>\n",
       "      <td>References</td>\n",
       "      <td>NaN</td>\n",
       "    </tr>\n",
       "    <tr>\n",
       "      <th>7</th>\n",
       "      <td>NaN</td>\n",
       "      <td>External links</td>\n",
       "      <td>NaN</td>\n",
       "    </tr>\n",
       "    <tr>\n",
       "      <th>8</th>\n",
       "      <td>UNESCO World Heritage Centre â€“ Official site</td>\n",
       "      <td>External links</td>\n",
       "      <td>NaN</td>\n",
       "    </tr>\n",
       "    <tr>\n",
       "      <th>9</th>\n",
       "      <td>List of UNESCO World Heritage Sites â€“ Offici...</td>\n",
       "      <td>External links</td>\n",
       "      <td>NaN</td>\n",
       "    </tr>\n",
       "    <tr>\n",
       "      <th>10</th>\n",
       "      <td>VRheritage.org â€“ documentation of World Heri...</td>\n",
       "      <td>External links</td>\n",
       "      <td>NaN</td>\n",
       "    </tr>\n",
       "    <tr>\n",
       "      <th>11</th>\n",
       "      <td>Worldheritage-Forum â€“ Information and Weblog...</td>\n",
       "      <td>External links</td>\n",
       "      <td>NaN</td>\n",
       "    </tr>\n",
       "  </tbody>\n",
       "</table>\n",
       "</div>"
      ],
      "text/plain": [
       "                                              Library              NAME  Empty\n",
       "0                                                 NaN             List     NaN\n",
       "1   The list below contains an image of the site o...             List     NaN\n",
       "2                                                 NaN         See also     NaN\n",
       "3              List of World Heritage Sites in Africa         See also     NaN\n",
       "4        List of World Heritage Sites in Western Asia         See also     NaN\n",
       "5            Destruction of cultural heritage by ISIL         See also     NaN\n",
       "6                                                 NaN       References     NaN\n",
       "7                                                 NaN   External links     NaN\n",
       "8      UNESCO World Heritage Centre â€“ Official site   External links     NaN\n",
       "9   List of UNESCO World Heritage Sites â€“ Offici...   External links     NaN\n",
       "10  VRheritage.org â€“ documentation of World Heri...   External links     NaN\n",
       "11  Worldheritage-Forum â€“ Information and Weblog...   External links     NaN"
      ]
     },
     "execution_count": 92,
     "metadata": {},
     "output_type": "execute_result"
    }
   ],
   "source": [
    "df.iloc[:, 1] = df.iloc[:, 1].fillna(method='ffill')\n",
    "df\n"
   ]
  },
  {
   "cell_type": "code",
   "execution_count": 93,
   "metadata": {},
   "outputs": [
    {
     "name": "stderr",
     "output_type": "stream",
     "text": [
      "C:\\Users\\fcmun\\Anaconda3\\lib\\site-packages\\pandas\\core\\indexing.py:543: SettingWithCopyWarning: \n",
      "A value is trying to be set on a copy of a slice from a DataFrame.\n",
      "Try using .loc[row_indexer,col_indexer] = value instead\n",
      "\n",
      "See the caveats in the documentation: http://pandas.pydata.org/pandas-docs/stable/indexing.html#indexing-view-versus-copy\n",
      "  self.obj[item] = s\n"
     ]
    },
    {
     "data": {
      "text/html": [
       "<div>\n",
       "<style scoped>\n",
       "    .dataframe tbody tr th:only-of-type {\n",
       "        vertical-align: middle;\n",
       "    }\n",
       "\n",
       "    .dataframe tbody tr th {\n",
       "        vertical-align: top;\n",
       "    }\n",
       "\n",
       "    .dataframe thead th {\n",
       "        text-align: right;\n",
       "    }\n",
       "</style>\n",
       "<table border=\"1\" class=\"dataframe\">\n",
       "  <thead>\n",
       "    <tr style=\"text-align: right;\">\n",
       "      <th></th>\n",
       "      <th>Library</th>\n",
       "      <th>NAME</th>\n",
       "      <th>Empty</th>\n",
       "    </tr>\n",
       "  </thead>\n",
       "  <tbody>\n",
       "    <tr>\n",
       "      <th>1</th>\n",
       "      <td>The list below contains an image of the site o...</td>\n",
       "      <td>List</td>\n",
       "      <td>NaN</td>\n",
       "    </tr>\n",
       "    <tr>\n",
       "      <th>3</th>\n",
       "      <td>List of World Heritage Sites in Africa</td>\n",
       "      <td>Seealso</td>\n",
       "      <td>NaN</td>\n",
       "    </tr>\n",
       "    <tr>\n",
       "      <th>4</th>\n",
       "      <td>List of World Heritage Sites in Western Asia</td>\n",
       "      <td>Seealso</td>\n",
       "      <td>NaN</td>\n",
       "    </tr>\n",
       "    <tr>\n",
       "      <th>5</th>\n",
       "      <td>Destruction of cultural heritage by ISIL</td>\n",
       "      <td>Seealso</td>\n",
       "      <td>NaN</td>\n",
       "    </tr>\n",
       "    <tr>\n",
       "      <th>8</th>\n",
       "      <td>UNESCO World Heritage Centre â€“ Official site</td>\n",
       "      <td>Externallinks</td>\n",
       "      <td>NaN</td>\n",
       "    </tr>\n",
       "    <tr>\n",
       "      <th>9</th>\n",
       "      <td>List of UNESCO World Heritage Sites â€“ Offici...</td>\n",
       "      <td>Externallinks</td>\n",
       "      <td>NaN</td>\n",
       "    </tr>\n",
       "    <tr>\n",
       "      <th>10</th>\n",
       "      <td>VRheritage.org â€“ documentation of World Heri...</td>\n",
       "      <td>Externallinks</td>\n",
       "      <td>NaN</td>\n",
       "    </tr>\n",
       "    <tr>\n",
       "      <th>11</th>\n",
       "      <td>Worldheritage-Forum â€“ Information and Weblog...</td>\n",
       "      <td>Externallinks</td>\n",
       "      <td>NaN</td>\n",
       "    </tr>\n",
       "  </tbody>\n",
       "</table>\n",
       "</div>"
      ],
      "text/plain": [
       "                                              Library           NAME  Empty\n",
       "1   The list below contains an image of the site o...           List    NaN\n",
       "3              List of World Heritage Sites in Africa        Seealso    NaN\n",
       "4        List of World Heritage Sites in Western Asia        Seealso    NaN\n",
       "5            Destruction of cultural heritage by ISIL        Seealso    NaN\n",
       "8      UNESCO World Heritage Centre â€“ Official site  Externallinks    NaN\n",
       "9   List of UNESCO World Heritage Sites â€“ Offici...  Externallinks    NaN\n",
       "10  VRheritage.org â€“ documentation of World Heri...  Externallinks    NaN\n",
       "11  Worldheritage-Forum â€“ Information and Weblog...  Externallinks    NaN"
      ]
     },
     "execution_count": 93,
     "metadata": {},
     "output_type": "execute_result"
    }
   ],
   "source": [
    "df2 = df[pd.notnull(df.iloc[:, 0])]\n",
    "df2.iloc[:, 1] = df2.iloc[:, 1].str.replace('=','')\n",
    "df2.iloc[:, 1] = df2.iloc[:, 1].str.replace(' ','')\n",
    "df2.iloc[:, 1] = df2.iloc[:, 1].str.replace('Anatolia','Turkey')\n",
    "df2"
   ]
  },
  {
   "cell_type": "code",
   "execution_count": 94,
   "metadata": {},
   "outputs": [
    {
     "data": {
      "text/html": [
       "<div>\n",
       "<style scoped>\n",
       "    .dataframe tbody tr th:only-of-type {\n",
       "        vertical-align: middle;\n",
       "    }\n",
       "\n",
       "    .dataframe tbody tr th {\n",
       "        vertical-align: top;\n",
       "    }\n",
       "\n",
       "    .dataframe thead th {\n",
       "        text-align: right;\n",
       "    }\n",
       "</style>\n",
       "<table border=\"1\" class=\"dataframe\">\n",
       "  <thead>\n",
       "    <tr style=\"text-align: right;\">\n",
       "      <th></th>\n",
       "      <th>NAME</th>\n",
       "      <th>Library</th>\n",
       "      <th>Empty</th>\n",
       "    </tr>\n",
       "  </thead>\n",
       "  <tbody>\n",
       "    <tr>\n",
       "      <th>0</th>\n",
       "      <td>Externallinks</td>\n",
       "      <td>4</td>\n",
       "      <td>0</td>\n",
       "    </tr>\n",
       "    <tr>\n",
       "      <th>1</th>\n",
       "      <td>List</td>\n",
       "      <td>1</td>\n",
       "      <td>0</td>\n",
       "    </tr>\n",
       "    <tr>\n",
       "      <th>2</th>\n",
       "      <td>Seealso</td>\n",
       "      <td>3</td>\n",
       "      <td>0</td>\n",
       "    </tr>\n",
       "  </tbody>\n",
       "</table>\n",
       "</div>"
      ],
      "text/plain": [
       "            NAME  Library  Empty\n",
       "0  Externallinks        4      0\n",
       "1           List        1      0\n",
       "2        Seealso        3      0"
      ]
     },
     "execution_count": 94,
     "metadata": {},
     "output_type": "execute_result"
    }
   ],
   "source": [
    "groups = df2.groupby('NAME', as_index=False).count()\n",
    "groups\n"
   ]
  },
  {
   "cell_type": "code",
   "execution_count": 95,
   "metadata": {
    "collapsed": true
   },
   "outputs": [],
   "source": [
    "df2.to_csv(output_table)"
   ]
  },
  {
   "cell_type": "code",
   "execution_count": 96,
   "metadata": {},
   "outputs": [
    {
     "name": "stderr",
     "output_type": "stream",
     "text": [
      "C:\\Users\\fcmun\\Anaconda3\\lib\\site-packages\\geopandas\\plotting.py:405: UserWarning: The GeoDataFrame you are attempting to plot is empty. Nothing has been displayed.\n",
      "  \"empty. Nothing has been displayed.\", UserWarning)\n"
     ]
    },
    {
     "data": {
      "text/plain": [
       "<matplotlib.axes._subplots.AxesSubplot at 0x1b2927b5630>"
      ]
     },
     "execution_count": 96,
     "metadata": {},
     "output_type": "execute_result"
    },
    {
     "data": {
      "image/png": "[encoded data removed]",
      "text/plain": [
       "<Figure size 432x288 with 1 Axes>"
      ]
     },
     "metadata": {},
     "output_type": "display_data"
    }
   ],
   "source": [
    "geo_data = gpd.read_file('C:\\\\Users\\\\fcmun\\\\Documents\\\\Geopandas_Practice_Files\\\\Country_Data.shp')\n",
    "country_shapes = geo_data.merge(groups, on='NAME')\n",
    "country_shapes.plot('Library', cmap='OrRd', legend = True)\n"
   ]
  },
  {
   "cell_type": "code",
   "execution_count": null,
   "metadata": {
    "collapsed": true
   },
   "outputs": [],
   "source": []
  }
 ],
 "metadata": {
  "kernelspec": {
   "display_name": "Python 3",
   "language": "python",
   "name": "python3"
  },
  "language_info": {
   "codemirror_mode": {
    "name": "ipython",
    "version": 3
   },
   "file_extension": ".py",
   "mimetype": "text/x-python",
   "name": "python",
   "nbconvert_exporter": "python",
   "pygments_lexer": "ipython3",
   "version": "3.6.6"
  }
 },
 "nbformat": 4,
 "nbformat_minor": 2
}
