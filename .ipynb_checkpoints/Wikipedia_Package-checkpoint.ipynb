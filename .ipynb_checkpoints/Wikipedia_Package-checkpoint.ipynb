{
 "cells": [
  {
   "cell_type": "markdown",
   "metadata": {},
   "source": [
    "# Using Wikipedia Python Package"
   ]
  },
  {
   "cell_type": "code",
   "execution_count": 2,
   "metadata": {
    "collapsed": true
   },
   "outputs": [],
   "source": [
    "##https://www.thecrazyprogrammer.com/2018/05/wikipedia-api-python-tutorial.html\n",
    "import wikipedia"
   ]
  },
  {
   "cell_type": "code",
   "execution_count": 3,
   "metadata": {},
   "outputs": [
    {
     "name": "stdout",
     "output_type": "stream",
     "text": [
      "Amorium was a city in Phrygia, Asia Minor which was founded in the Hellenistic period, flourished under the Byzantine Empire, and declined after the Arab sack of 838.  It was situated on the Byzantine military road from Constantinople to Cilicia. Its ruins and höyük ('mound, tumulus') are located under and around the modern village of Hisarköy, 13 kilometers east of the district center, Emirdağ, Afyonkarahisar Province, Turkey.Amorium is the Latinized version of its original Greek name Amorion (Greek: Ἀμόριον). Arab/Islamic sources refer to the city as ʿAmmūriye. Under Ottoman rule the site, which never regained importance, was called Hergen Kale or Hergen Kaleh.\n"
     ]
    }
   ],
   "source": [
    "##Print Summary\n",
    "print(wikipedia.summary(\"Amorium\")) "
   ]
  },
  {
   "cell_type": "code",
   "execution_count": 7,
   "metadata": {},
   "outputs": [
    {
     "name": "stdout",
     "output_type": "stream",
     "text": [
      "['Archaeology', \"China's 100 major archaeological discoveries in the 20th century\", 'Culture of Sindh', 'Sedeinga pyramids', 'Choquequirao', 'Tartessos', 'Layer Pyramid', 'Sweet Track', 'K. K. Muhammed', 'Bethabara']\n"
     ]
    }
   ],
   "source": [
    "##List of Titles\n",
    "import wikipedia\n",
    "print(wikipedia.search(\"archaeological discoveries\"))"
   ]
  },
  {
   "cell_type": "code",
   "execution_count": 8,
   "metadata": {},
   "outputs": [
    {
     "name": "stdout",
     "output_type": "stream",
     "text": [
      "https://en.wikipedia.org/wiki/Culture_of_Sindh\n"
     ]
    }
   ],
   "source": [
    "##Url of a title\n",
    "import wikipedia\n",
    "page = wikipedia.page(\"Culture of Sindh\")\n",
    "print(page.url)"
   ]
  },
  {
   "cell_type": "code",
   "execution_count": 9,
   "metadata": {},
   "outputs": [
    {
     "name": "stdout",
     "output_type": "stream",
     "text": [
      "Culture of Sindh\n"
     ]
    }
   ],
   "source": [
    "import wikipedia\n",
    "page = wikipedia.page(\"Culture of Sindh\")\n",
    "print(page.title)"
   ]
  },
  {
   "cell_type": "code",
   "execution_count": 10,
   "metadata": {},
   "outputs": [
    {
     "name": "stdout",
     "output_type": "stream",
     "text": [
      "The Culture of Sindh (Sindhi: سنڌ جي ثقافت‎,Urdu: سندھ کی ثقافت‬‎) has its roots in the Indus Valley Civilization. Sindh has been shaped by the largely desert region, the natural resources it had available, and continuous foreign influence. The Indus or Sindhu River that passes through the land, and the Arabian Sea (that defines its borders) also supported the seafaring traditions among the local people. The local climate also reflects why the Sindhis have the language, folklore, traditions, customs and lifestyle that are so different from the neighboring regions. The Sindhi culture is also practiced by the Sindhi diaspora.\n",
      "\n",
      "\n",
      "== History ==\n",
      "\n",
      "The roots of Sindhi culture go back to the distant past. Archaeological research during 19th and 20th centuries showed the roots of social life, religion and culture of the people of the Sindh: their agricultural practices, traditional arts and crafts, customs and tradition and other parts of social life, going back to a mature Indus Valley Civilization of the third millennium BC. Recent researches have traced the Indus valley civilization to even earlier ancestry.\n",
      "\n",
      "\n",
      "=== Archaeological discoveries ===\n",
      "\n",
      "The excavations of Mohen-Jo-Daro have unfolded the city life of a civilization of people with values, a distinct identity and culture. Therefore, the first definition of the Sindhi culture emanates from that over the 7000-year-old Indus Valley Civilization. This is the pre-Aryan period, about 3,000 years BC., when the urban civilization in Sindh was at its peak.  In Sir Mortimer Wheeler's book, Civilization of the Indus Valley and Beyond, it is said that; \"Civilization, in a minimum sense of the term, is the art of living in towns, with all that the condition implies in respect of social skills and disciplines.\" When people speak of Sindhi civilization, they have to concern themselves, mainly with the material and concrete side of human habitation of which Sindhi culture is the only essence called the superstructure. The present day Sindh, along with the Northern part of the Indus Valley Civilization (around 3000 to 2500 BC) is located on its urban civilization.Ranikot Fort is also a landmark of the Indus valley civilization. It is the world's largest fort, with walls extending to 20 km. It has been called a \"second Wall of China\", and attracts many visitors.\n",
      "\n",
      "\n",
      "== Literature ==\n",
      "\n",
      "\n",
      "=== History ===\n",
      "Sindhi language is ancient and rich in literature. Its writers have contributed extensively in various forms of literature in both poetry and prose. Sindhi literature is very rich, and is one of the world's oldest literatures. The earliest reference to Sindhi literature is contained in the writings of Arab historians. It is established that Sindhi was the first eastern language into which the Quran was translated, in the 8th or 9th century. There is evidence of Sindhi poets reciting their verses before the Muslim Caliphs in Baghdad. It is also recorded that treatises were written in Sindhi on astronomy, medicine and history during the 8th and 9th centuries.\n",
      "\n",
      "\n",
      "=== Poetry ===\n",
      "Sindhi poetry is also prominent in Sindhi culture. Poetry of Shah Abdul Latif Bhittai and Sachal Sarmast is very famous throughout Sindh.\n",
      "\n",
      "\n",
      "== Music ==\n",
      "\n",
      "Sindhi music has its own unique quality. It is performed in many different ways. Sufi music is performed at shrines, and other simple music is performed at studios and gatherings.\n",
      "\n",
      "\n",
      "== Sports ==\n",
      "There are many regional sports that are played in Sindh. Malakhiro is one of the famous sports of Sindh. Other sports include Wanjh wati, Kodi Kodi, Beelarhoo, Thipai Rand, Notinn and Biloor,cricket,football.\n",
      "\n",
      "\n",
      "== Cultural character ==\n",
      "The ancient Sindhi civilization was the place, where the aesthetic utilization of leisure was freely indulged. There has been evidence, that the excavations of sites dating back to 3000 BC (all over Sindh) is also true, around 1200 years ago when Jaina Dakshiniya Chihna (778 AD) described the distinguished features of Sindhis in this way: \"Elegant, with a lovely, soft and slow gait, they are fond of the art of Gandharvas (that is, songs, music and dancing) and full affection towards their country.\"             :Nasir Kalwar\n",
      "\n",
      "\n",
      "== Sindhi Cultural Day (Ekta Day) ==\n",
      "\n",
      "Sindhis celebrate Sindh Cultural day worldwide every year on first Sunday of December, by wearing Ajrak & Sindhi Topi. On that occasion, the musical programmes and rallies are held in many cities to mark the day with zeal.Major hallmarks of cities and towns are decorated with Sindhi Ajrak to highlight the cultural values of Sindh. The people across Sindh exchange gifts of Ajrak and Topi at various ceremonies.Even, the children and women are dressed up in Ajrak, assembling at the grand gathering, where famous Sindhi singers sing Sindhi songs, which depicts love and progress of Sindh. The musical performances of the artists compel the participants to dance on Sindhi tunes and ‘Jeay Sindh Jeay-Sindh Wara Jean’.\n",
      "All Political, social and religious organisations of Sindh, besides the Sindh culture department and administrations of various schools, colleges and universities, organize variety of events including seminars, debates, folk music programmes, drama and theatrics performances, tableau and literary sittings to mark this annual festivity. Sindhi culture, history and heritage are highlighted at the events.Ekta (Unity) day is observed to display solidarity among the Sindhi-speaking masses, the event is celebrated not only in Karachi, but throughout Sindh. The province’s culture and unity day was celebrated for the first time on December 6, 2009 (as the Sindhi Topi Day) as a backlash to the comments of anchorman Dr Shahid Masood who had criticised President Asif Ali Zardari for wearing a Sindhi cap on his foreign tours. People across the Sindh province condemned Masood’s comments via SMS, which ultimately resulted in the announcement of celebrating the Sindhi Topi Day. Moreover, a prominent figure in Sindh, Ali Kazi, had started issuing a call for observing a unity day, and a large number of people responded to the call and started celebrating the culture and the unity days.Ever since, Sindhi media groups have started to celebrate the day as ‘Sindhi Cultural Day’ or 'Ekta day'.The Sindhi language TV channels including KTN, Sindh TV, Awaz TV and Mehran TV broadcast special programmes on the culture of Sindh, besides these media outlets separately arrange the mega musical events, which also attract large audience to celebrate the Culture Day every year. The Sindhi language TV channels and Political Parties of Sindh, first time celebrated Sindhi Cultural Day (Ekta Day), together on December 8, 2013.\n",
      "\n",
      "\t\t\n",
      "\t\t\n",
      "\t\t\n",
      "\n",
      "\n",
      "== See also ==\n",
      "Sindh\n",
      "Sindhi\n",
      "Tomb paintings of Sindh\n",
      "Sindhi dress\n",
      "Sindhi cuisine\n",
      "\n",
      "\n",
      "== Notes ==\n",
      "\n",
      "\n",
      "== External links ==\n",
      "Official website of Sindh about culture\n",
      "Sindhi Sangat - produces many Sindhi Movies, Music Albums, Events Worldwide promoting Sindhi heritage, culture and language\n"
     ]
    }
   ],
   "source": [
    "import wikipedia\n",
    "page = wikipedia.page(\"Culture of Sindh\")\n",
    "print(page.content)"
   ]
  },
  {
   "cell_type": "code",
   "execution_count": 11,
   "metadata": {},
   "outputs": [
    {
     "name": "stdout",
     "output_type": "stream",
     "text": [
      "https://upload.wikimedia.org/wikipedia/commons/1/15/Abida_Parveen_concert_1.jpg\n"
     ]
    }
   ],
   "source": [
    "import wikipedia\n",
    "page = wikipedia.page(\"Culture of Sindh\")\n",
    "print(page.images[0])"
   ]
  },
  {
   "cell_type": "code",
   "execution_count": null,
   "metadata": {
    "collapsed": true
   },
   "outputs": [],
   "source": []
  }
 ],
 "metadata": {
  "kernelspec": {
   "display_name": "Python 3",
   "language": "python",
   "name": "python3"
  },
  "language_info": {
   "codemirror_mode": {
    "name": "ipython",
    "version": 3
   },
   "file_extension": ".py",
   "mimetype": "text/x-python",
   "name": "python",
   "nbconvert_exporter": "python",
   "pygments_lexer": "ipython3",
   "version": "3.6.6"
  }
 },
 "nbformat": 4,
 "nbformat_minor": 2
}
