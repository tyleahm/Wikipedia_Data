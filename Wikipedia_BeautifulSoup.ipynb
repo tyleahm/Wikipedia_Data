{
 "cells": [
  {
   "cell_type": "markdown",
   "metadata": {},
   "source": [
    "# Dumps into Wikipedia"
   ]
  },
  {
   "cell_type": "code",
   "execution_count": 19,
   "metadata": {},
   "outputs": [
    {
     "data": {
      "text/plain": [
       "['../',\n",
       " '20180901/',\n",
       " '20180920/',\n",
       " '20181001/',\n",
       " '20181020/',\n",
       " '20181101/',\n",
       " '20181120/',\n",
       " '20181201/',\n",
       " 'latest/']"
      ]
     },
     "execution_count": 19,
     "metadata": {},
     "output_type": "execute_result"
    }
   ],
   "source": [
    "##What dumps of wikipedia are available\n",
    "import requests\n",
    "# Library for parsing HTML\n",
    "from bs4 import BeautifulSoup\n",
    "base_url = 'https://dumps.wikimedia.org/enwiki/'\n",
    "index = requests.get(base_url).text\n",
    "soup_index = BeautifulSoup(index, 'html.parser')\n",
    "# Find the links on the page\n",
    "dumps = [a['href'] for a in soup_index.find_all('a') if \n",
    "         a.has_attr('href')]\n",
    "dumps"
   ]
  },
  {
   "cell_type": "markdown",
   "metadata": {},
   "source": [
    "# Finding all the files in a dump"
   ]
  },
  {
   "cell_type": "code",
   "execution_count": 20,
   "metadata": {},
   "outputs": [
    {
     "data": {
      "text/plain": [
       "[<li class=\"file\"><a href=\"/enwiki/20180901/enwiki-20180901-pages-articles-multistream.xml.bz2\">enwiki-20180901-pages-articles-multistream.xml.bz2</a> 15.2 GB</li>,\n",
       " <li class=\"file\"><a href=\"/enwiki/20180901/enwiki-20180901-pages-articles-multistream-index.txt.bz2\">enwiki-20180901-pages-articles-multistream-index.txt.bz2</a> 195.6 MB</li>,\n",
       " <li class=\"file\"><a href=\"/enwiki/20180901/enwiki-20180901-pages-meta-history1.xml-p10p2101.7z\">enwiki-20180901-pages-meta-history1.xml-p10p2101.7z</a> 320.6 MB</li>]"
      ]
     },
     "execution_count": 20,
     "metadata": {},
     "output_type": "execute_result"
    }
   ],
   "source": [
    "dump_url = base_url + '20180901/'\n",
    "# Retrieve the html\n",
    "dump_html = requests.get(dump_url).text\n",
    "# Convert to a soup\n",
    "soup_dump = BeautifulSoup(dump_html, 'html.parser')\n",
    "# Find list elements with the class file\n",
    "soup_dump.find_all('li', {'class': 'file'})[:3]"
   ]
  },
  {
   "cell_type": "code",
   "execution_count": 21,
   "metadata": {
    "collapsed": true
   },
   "outputs": [],
   "source": [
    "##Go back to this\n",
    "##https://towardsdatascience.com/wikipedia-data-science-working-with-the-worlds-largest-encyclopedia-c08efbac5f5c"
   ]
  },
  {
   "cell_type": "code",
   "execution_count": null,
   "metadata": {
    "collapsed": true
   },
   "outputs": [],
   "source": [
    "##PUlling References for a page\n",
    "##https://stackoverflow.com/questions/46237235/scraping-urls-from-wikipedia-references-section\n",
    "\n",
    "## Import required packages ##\n",
    "from urllib.request import urlopen\n",
    "from urllib.error import HTTPError\n",
    "from bs4 import BeautifulSoup\n",
    "import re\n",
    "\n",
    "selectWikiPage = input(print(\"https://en.wikipedia.org/wiki/Quechua_language\"))\n",
    "isWikiFound = re.findall(selectWikiPage, 'wikipedia')\n",
    "if \"wikipedia\" in selectWikiPage:\n",
    "    print(\"Input accepted\")\n",
    "    html = urlopen(selectWikiPage)\n",
    "    bsObj = BeautifulSoup(html, \"lxml\")\n",
    "    findReferences = bsObj.findAll(\"#References\")\n",
    "    for wikiReferences in findReferences:\n",
    "        print(wikiReferences.get_text())\n",
    "\n",
    "else:\n",
    "    print(\"Error: Please enter a valid Wikipedia URL\")"
   ]
  },
  {
   "cell_type": "code",
   "execution_count": null,
   "metadata": {
    "collapsed": true
   },
   "outputs": [],
   "source": [
    "pages = urllib.request.urlopen(\"https://en.wikipedia.org/w/api.phpaction=query&list=categorymembers&cmtitle=Category:Archaeological%20discoveries%20by%20year&format=json&cmlimit=500&cmtype=subcat\")\n",
    "data = json.load(pages)\n",
    "query = data['query']\n",
    "category = query['categorymembers']\n",
    "for x in category:\n",
    "    print (x['title'])"
   ]
  },
  {
   "cell_type": "code",
   "execution_count": null,
   "metadata": {
    "collapsed": true
   },
   "outputs": [],
   "source": []
  }
 ],
 "metadata": {
  "kernelspec": {
   "display_name": "Python 3",
   "language": "python",
   "name": "python3"
  },
  "language_info": {
   "codemirror_mode": {
    "name": "ipython",
    "version": 3
   },
   "file_extension": ".py",
   "mimetype": "text/x-python",
   "name": "python",
   "nbconvert_exporter": "python",
   "pygments_lexer": "ipython3",
   "version": "3.6.6"
  }
 },
 "nbformat": 4,
 "nbformat_minor": 2
}
